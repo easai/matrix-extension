{
 "cells": [
  {
   "cell_type": "markdown",
   "metadata": {},
   "source": [
    "# Unitary Matrix extension\n",
    "\n",
    "A unitary matrix is a matrix A whose adjoint matrix A* satisfies the following:\n",
    "$$\n",
    "A A^*=A^* A=I\n",
    "$$\n",
    "where I is the identity matrix of the same size.\n",
    "\n",
    "The original sympy Matrix class does not have is_unitary() method. So let's add it."
   ]
  },
  {
   "cell_type": "code",
   "execution_count": 1,
   "metadata": {},
   "outputs": [
    {
     "data": {
      "text/plain": [
       "True"
      ]
     },
     "execution_count": 1,
     "metadata": {},
     "output_type": "execute_result"
    }
   ],
   "source": [
    "from sympy import Matrix\n",
    "\n",
    "\n",
    "class MatrixExt(Matrix):\n",
    "    def is_unitary(self):\n",
    "        w, h = self.shape\n",
    "        if w <= 0 or w != h:\n",
    "            return False\n",
    "        adj = self.adjoint()\n",
    "        return self.multiply(adj) == adj.multiply(self) and self.multiply(adj) == self.eye(w)\n",
    "\n",
    "\n",
    "A = MatrixExt([[1, 0], [0, 1]])\n",
    "\n",
    "A.is_unitary()"
   ]
  }
 ],
 "metadata": {
  "kernelspec": {
   "display_name": "Python 3",
   "language": "python",
   "name": "python3"
  },
  "language_info": {
   "codemirror_mode": {
    "name": "ipython",
    "version": 3
   },
   "file_extension": ".py",
   "mimetype": "text/x-python",
   "name": "python",
   "nbconvert_exporter": "python",
   "pygments_lexer": "ipython3",
   "version": "3.11.5"
  }
 },
 "nbformat": 4,
 "nbformat_minor": 2
}
