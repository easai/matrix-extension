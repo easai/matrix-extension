{
 "cells": [
  {
   "cell_type": "markdown",
   "metadata": {},
   "source": [
    "# Unitary Matrix extension\n",
    "\n",
    "A unitary matrix is a matrix A whose adjoint matrix A* satisfies the following:\n",
    "$$\n",
    "A A^*=A^* A=I\n",
    "$$\n",
    "where I is the identity matrix of the same size.\n",
    "\n",
    "The original sympy Matrix class does not have is_unitary() method. So let's add it."
   ]
  },
  {
   "cell_type": "code",
   "execution_count": 22,
   "metadata": {},
   "outputs": [
    {
     "data": {
      "text/latex": [
       "$\\displaystyle \\left[\\begin{matrix}0.5 + 0.5 i & 0.5 - 0.5 i\\\\0.5 - 0.5 i & 0.5 + 0.5 i\\end{matrix}\\right]$"
      ],
      "text/plain": [
       "Matrix([\n",
       "[0.5 + 0.5*I, 0.5 - 0.5*I],\n",
       "[0.5 - 0.5*I, 0.5 + 0.5*I]])"
      ]
     },
     "execution_count": 22,
     "metadata": {},
     "output_type": "execute_result"
    }
   ],
   "source": [
    "from sympy import Matrix, I, simplify,sqrt\n",
    "\n",
    "\n",
    "class MatrixExt(Matrix):\n",
    "    def is_normal(self):\n",
    "        w, h = self.shape\n",
    "        if w <= 0 or w != h:\n",
    "            return False\n",
    "        adj = self.adjoint()\n",
    "        product = simplify(self.multiply(adj))\n",
    "        product_inv = simplify(adj.multiply(self))\n",
    "        return product == product_inv\n",
    "\n",
    "    def is_unitary(self):\n",
    "        if not self.is_normal():\n",
    "            return False\n",
    "        w, _ = self.shape\n",
    "        adj = self.adjoint()\n",
    "        product = simplify(self.multiply(adj))\n",
    "        return  product == self.eye(w)\n",
    "\n",
    "\n",
    "A = 1/2*MatrixExt([[1-I, 1+I], [1+I, 1-I]])\n",
    "\n",
    "A.is_unitary()\n",
    "\n",
    "A.adjoint()\n"
   ]
  },
  {
   "cell_type": "code",
   "execution_count": 21,
   "metadata": {},
   "outputs": [
    {
     "data": {
      "text/plain": [
       "True"
      ]
     },
     "execution_count": 21,
     "metadata": {},
     "output_type": "execute_result"
    }
   ],
   "source": [
    "A=1/sqrt(2)*MatrixExt([[-I,1],[I,1]])\n",
    "A.is_unitary()"
   ]
  },
  {
   "cell_type": "markdown",
   "metadata": {},
   "source": [
    "Note that the adjoint here (adjoint()) is not calculating the adjugate matrix. The modern usage of the word \"adjoint\" is for \"conjugate transpose\". The conjugate tranpose of a matrix can be obtained by transposing the matrix and applying the complex conjugate of each element. "
   ]
  }
 ],
 "metadata": {
  "kernelspec": {
   "display_name": "Python 3",
   "language": "python",
   "name": "python3"
  },
  "language_info": {
   "codemirror_mode": {
    "name": "ipython",
    "version": 3
   },
   "file_extension": ".py",
   "mimetype": "text/x-python",
   "name": "python",
   "nbconvert_exporter": "python",
   "pygments_lexer": "ipython3",
   "version": "3.11.5"
  }
 },
 "nbformat": 4,
 "nbformat_minor": 2
}
